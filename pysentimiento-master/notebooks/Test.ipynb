{
 "cells": [
  {
   "cell_type": "code",
   "execution_count": null,
   "metadata": {},
   "outputs": [],
   "source": []
  },
  {
   "cell_type": "markdown",
   "metadata": {},
   "source": [
    "## Test model"
   ]
  },
  {
   "cell_type": "code",
   "execution_count": 60,
   "metadata": {},
   "outputs": [
    {
     "name": "stdout",
     "output_type": "stream",
     "text": [
      "The autoreload extension is already loaded. To reload it, use:\n",
      "  %reload_ext autoreload\n"
     ]
    },
    {
     "data": {
      "text/plain": "SentimentOutput(output=POS, probas={POS: 0.998, NEG: 0.002, NEU: 0.000})"
     },
     "execution_count": 60,
     "metadata": {},
     "output_type": "execute_result"
    }
   ],
   "source": [
    "%load_ext autoreload\n",
    "%autoreload 2\n",
    "from pysentimiento import SentimentAnalyzer\n",
    "analyzer = SentimentAnalyzer(lang='es')\n",
    "\n",
    "analyzer.predict(\"Qué gran jugador es Messi\")"
   ]
  },
  {
   "cell_type": "code",
   "execution_count": 61,
   "metadata": {},
   "outputs": [
    {
     "data": {
      "text/plain": "SentimentOutput(output=NEG, probas={NEG: 0.999, POS: 0.001, NEU: 0.000})"
     },
     "execution_count": 61,
     "metadata": {},
     "output_type": "execute_result"
    }
   ],
   "source": [
    "analyzer.predict(\"Esto es pésimo\")"
   ]
  },
  {
   "cell_type": "code",
   "execution_count": 62,
   "metadata": {},
   "outputs": [
    {
     "data": {
      "text/plain": "SentimentOutput(output=NEU, probas={NEU: 0.993, NEG: 0.005, POS: 0.002})"
     },
     "execution_count": 62,
     "metadata": {},
     "output_type": "execute_result"
    }
   ],
   "source": [
    "analyzer.predict(\"Qué es esto?\")"
   ]
  },
  {
   "cell_type": "code",
   "execution_count": 67,
   "metadata": {},
   "outputs": [
    {
     "data": {
      "text/plain": "SentimentOutput(output=NEG, probas={NEG: 0.587, NEU: 0.408, POS: 0.005})"
     },
     "execution_count": 67,
     "metadata": {},
     "output_type": "execute_result"
    }
   ],
   "source": [
    "analyzer.predict(\"jejejeje no te creo mucho\")"
   ]
  },
  {
   "cell_type": "markdown",
   "metadata": {},
   "source": [
    "### English "
   ]
  },
  {
   "cell_type": "code",
   "execution_count": 69,
   "metadata": {},
   "outputs": [],
   "source": [
    "en_analyzer = SentimentAnalyzer(lang=\"en\")"
   ]
  },
  {
   "cell_type": "code",
   "execution_count": 70,
   "metadata": {},
   "outputs": [
    {
     "data": {
      "text/plain": "SentimentOutput(output=POS, probas={POS: 0.998, NEU: 0.002, NEG: 0.000})"
     },
     "execution_count": 70,
     "metadata": {},
     "output_type": "execute_result"
    }
   ],
   "source": [
    "en_analyzer.predict(\"YAYYYYY so cool!\")"
   ]
  },
  {
   "cell_type": "code",
   "execution_count": 13,
   "metadata": {},
   "outputs": [
    {
     "data": {
      "text/plain": "SentimentOutput(output=('NEG', 0.9854470491409302), probas={'NEG': 0.9854470491409302, 'NEU': 0.013757594861090183, 'POS': 0.0007954258471727371})"
     },
     "execution_count": 13,
     "metadata": {},
     "output_type": "execute_result"
    }
   ],
   "source": [
    "en_analyzer.predict(\"I don't think that's right\")"
   ]
  },
  {
   "cell_type": "code",
   "execution_count": 14,
   "metadata": {},
   "outputs": [
    {
     "data": {
      "text/plain": "SentimentOutput(output=('NEG', 0.9970819354057312), probas={'NEG': 0.9970819354057312, 'NEU': 0.0021265754476189613, 'POS': 0.0007915270398370922})"
     },
     "execution_count": 14,
     "metadata": {},
     "output_type": "execute_result"
    }
   ],
   "source": [
    "pred = en_analyzer.predict(\"omg this is unbearable\")\n",
    "\n",
    "pred"
   ]
  },
  {
   "cell_type": "code",
   "execution_count": 15,
   "metadata": {},
   "outputs": [
    {
     "data": {
      "text/plain": "SentimentOutput(output=('NEU', 0.9943286776542664), probas={'NEG': 0.00047558770165778697, 'NEU': 0.9943286776542664, 'POS': 0.00519575597718358})"
     },
     "execution_count": 15,
     "metadata": {},
     "output_type": "execute_result"
    }
   ],
   "source": [
    "en_analyzer.predict(\"Breaking news: President Biden goes to the Capitol\")"
   ]
  },
  {
   "cell_type": "code",
   "execution_count": 18,
   "metadata": {},
   "outputs": [
    {
     "data": {
      "text/plain": "SentimentOutput(output=('NEG', 0.9602996110916138), probas={'NEG': 0.9602996110916138, 'NEU': 0.038845937699079514, 'POS': 0.000854403420817107})"
     },
     "execution_count": 18,
     "metadata": {},
     "output_type": "execute_result"
    }
   ],
   "source": [
    "en_analyzer.predict(\"😠\")\n"
   ]
  },
  {
   "cell_type": "markdown",
   "metadata": {},
   "source": [
    "## Emotion Analysis\n"
   ]
  },
  {
   "cell_type": "code",
   "execution_count": 19,
   "metadata": {},
   "outputs": [],
   "source": [
    "from pysentimiento import EmotionAnalyzer\n",
    "\n",
    "emotion_analyzer = EmotionAnalyzer(lang=\"es\")"
   ]
  },
  {
   "cell_type": "code",
   "execution_count": 20,
   "metadata": {},
   "outputs": [
    {
     "data": {
      "text/plain": "EmotionOutput(output=('surprise', 0.8235413432121277), probas={'others': 0.0021858965046703815, 'joy': 0.1645209789276123, 'sadness': 0.001709437696263194, 'anger': 0.001863385085016489, 'surprise': 0.8235413432121277, 'disgust': 0.004066913388669491, 'fear': 0.002112044719979167})"
     },
     "execution_count": 20,
     "metadata": {},
     "output_type": "execute_result"
    }
   ],
   "source": [
    "emotion_analyzer.predict(\"increíble!!!!!\")"
   ]
  },
  {
   "cell_type": "code",
   "execution_count": 23,
   "metadata": {},
   "outputs": [
    {
     "data": {
      "text/plain": "EmotionOutput(output=('disgust', 0.9928826093673706), probas={'others': 0.00028269379981793463, 'joy': 0.0010111251613125205, 'sadness': 0.0005876368377357721, 'anger': 0.002439307514578104, 'surprise': 0.0009584325598552823, 'disgust': 0.9928826093673706, 'fear': 0.0018380953697487712})"
     },
     "execution_count": 23,
     "metadata": {},
     "output_type": "execute_result"
    }
   ],
   "source": [
    "emotion_analyzer.predict(\"qué ascoooo 🤮🤮🤮\")"
   ]
  },
  {
   "cell_type": "code",
   "execution_count": 24,
   "metadata": {},
   "outputs": [
    {
     "data": {
      "text/plain": "EmotionOutput(output=('sadness', 0.5815809369087219), probas={'others': 0.009410287253558636, 'joy': 0.0014293469721451402, 'sadness': 0.5815809369087219, 'anger': 0.036521971225738525, 'surprise': 0.09726850688457489, 'disgust': 0.16751514375209808, 'fear': 0.10627371817827225})"
     },
     "execution_count": 24,
     "metadata": {},
     "output_type": "execute_result"
    }
   ],
   "source": [
    "emotion_analyzer.predict(\"Esto realmente es desesperanzador. Qué vamos a hacer?\")"
   ]
  },
  {
   "cell_type": "code",
   "execution_count": 26,
   "metadata": {},
   "outputs": [
    {
     "data": {
      "text/plain": "EmotionOutput(output=('joy', 0.9948421120643616), probas={'others': 0.0019448379753157496, 'joy': 0.9948421120643616, 'sadness': 0.0004859337059315294, 'anger': 0.0003745194699149579, 'surprise': 0.0011938571697100997, 'disgust': 0.0007428938406519592, 'fear': 0.0004158710944466293})"
     },
     "execution_count": 26,
     "metadata": {},
     "output_type": "execute_result"
    }
   ],
   "source": [
    "emotion_analyzer.predict(\"Viva!!!!😃 😃\")"
   ]
  },
  {
   "cell_type": "markdown",
   "metadata": {},
   "source": [
    "## English"
   ]
  },
  {
   "cell_type": "code",
   "execution_count": 72,
   "metadata": {},
   "outputs": [],
   "source": [
    "from pysentimiento import EmotionAnalyzer\n",
    "\n",
    "emotion_analyzer = EmotionAnalyzer(lang=\"en\")"
   ]
  },
  {
   "cell_type": "code",
   "execution_count": 73,
   "metadata": {},
   "outputs": [
    {
     "data": {
      "text/plain": "EmotionOutput(output=sadness, probas={sadness: 0.950, fear: 0.016, disgust: 0.010, anger: 0.007, surprise: 0.007, others: 0.006, joy: 0.005})"
     },
     "execution_count": 73,
     "metadata": {},
     "output_type": "execute_result"
    }
   ],
   "source": [
    "emotion_analyzer.predict(\"This is so terrible...\")"
   ]
  },
  {
   "cell_type": "code",
   "execution_count": 74,
   "metadata": {},
   "outputs": [
    {
     "data": {
      "text/plain": "EmotionOutput(output=surprise, probas={surprise: 0.918, joy: 0.020, fear: 0.016, others: 0.016, sadness: 0.014, anger: 0.011, disgust: 0.005})"
     },
     "execution_count": 74,
     "metadata": {},
     "output_type": "execute_result"
    }
   ],
   "source": [
    "emotion_analyzer.predict(\"omg\")\n"
   ]
  },
  {
   "cell_type": "code",
   "execution_count": 75,
   "metadata": {},
   "outputs": [
    {
     "data": {
      "text/plain": "EmotionOutput(output=joy, probas={joy: 0.723, others: 0.198, surprise: 0.038, disgust: 0.011, sadness: 0.011, fear: 0.010, anger: 0.009})"
     },
     "execution_count": 75,
     "metadata": {},
     "output_type": "execute_result"
    }
   ],
   "source": [
    "emotion_analyzer.predict(\"yayyyy\")"
   ]
  },
  {
   "cell_type": "code",
   "execution_count": 76,
   "metadata": {},
   "outputs": [
    {
     "data": {
      "text/plain": "EmotionOutput(output=anger, probas={anger: 0.798, surprise: 0.055, fear: 0.040, disgust: 0.036, joy: 0.028, others: 0.023, sadness: 0.019})"
     },
     "execution_count": 76,
     "metadata": {},
     "output_type": "execute_result"
    }
   ],
   "source": [
    "emotion_analyzer.predict(\"fuck off\")"
   ]
  },
  {
   "cell_type": "code",
   "execution_count": 80,
   "metadata": {},
   "outputs": [
    {
     "data": {
      "text/plain": "'[EMOJI] party popper [EMOJI][EMOJI] party popper [EMOJI]'"
     },
     "execution_count": 80,
     "metadata": {},
     "output_type": "execute_result"
    }
   ],
   "source": [
    "from pysentimiento.preprocessing import preprocess_tweet\n",
    "\n",
    "preprocess_tweet(\"🎉🎉\", lang=\"en\")"
   ]
  }
 ],
 "metadata": {
  "kernelspec": {
   "display_name": "Python 3.8.5 64-bit ('pysent-oyXQVI9B': pipenv)",
   "name": "python385jvsc74a57bd01b2ee3c7e4be117f16044e4287774c113d04cbc1cc9e7e3b16e6e098f73486a4"
  },
  "language_info": {
   "name": "python",
   "version": ""
  },
  "metadata": {
   "interpreter": {
    "hash": "1b2ee3c7e4be117f16044e4287774c113d04cbc1cc9e7e3b16e6e098f73486a4"
   }
  },
  "orig_nbformat": 3
 },
 "nbformat": 4,
 "nbformat_minor": 4
}