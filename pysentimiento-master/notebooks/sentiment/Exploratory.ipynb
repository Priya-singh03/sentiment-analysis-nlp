{
 "cells": [
  {
   "cell_type": "markdown",
   "metadata": {},
   "source": [
    "## Exploratory Analysis\n",
    "\n"
   ]
  },
  {
   "cell_type": "code",
   "execution_count": 28,
   "metadata": {},
   "outputs": [
    {
     "name": "stdout",
     "output_type": "stream",
     "text": [
      "The autoreload extension is already loaded. To reload it, use:\n",
      "  %reload_ext autoreload\n",
      "4802 2443 7264\n",
      "(14509, 3)\n"
     ]
    }
   ],
   "source": [
    "%load_ext autoreload\n",
    "%autoreload 2\n",
    "import os\n",
    "from datasets import concatenate_datasets\n",
    "from pysentimiento.sentiment import load_tass_datasets, id2labeltass\n",
    "\n",
    "train, dev, test = load_tass_datasets(preprocess=False)\n",
    "\n",
    "\n",
    "df = concatenate_datasets([train, dev, test]).to_pandas()\n",
    "\n",
    "df[\"label\"] = df[\"label\"].apply(lambda x: id2labeltass[x])\n",
    "\n",
    "print(df.shape)"
   ]
  },
  {
   "cell_type": "code",
   "execution_count": 29,
   "metadata": {},
   "outputs": [
    {
     "data": {
      "text/html": [
       "<div>\n",
       "<style scoped>\n",
       "    .dataframe tbody tr th:only-of-type {\n",
       "        vertical-align: middle;\n",
       "    }\n",
       "\n",
       "    .dataframe tbody tr th {\n",
       "        vertical-align: top;\n",
       "    }\n",
       "\n",
       "    .dataframe thead th {\n",
       "        text-align: right;\n",
       "    }\n",
       "</style>\n",
       "<table border=\"1\" class=\"dataframe\">\n",
       "  <thead>\n",
       "    <tr style=\"text-align: right;\">\n",
       "      <th></th>\n",
       "      <th>text</th>\n",
       "      <th>lang</th>\n",
       "      <th>label</th>\n",
       "    </tr>\n",
       "  </thead>\n",
       "  <tbody>\n",
       "    <tr>\n",
       "      <th>12381</th>\n",
       "      <td>@julioastillero @ElverGo13 Don Julio es siempre critico con AMLO/morena pero estoy seguro que en 2006 y 2012 votó por el</td>\n",
       "      <td>MX</td>\n",
       "      <td>NEU</td>\n",
       "    </tr>\n",
       "    <tr>\n",
       "      <th>836</th>\n",
       "      <td>@120futbol La sensación térmica va de la mano de la humedad, a más humedad peor y más bochorno, la cosa estaba seca en ese momento!</td>\n",
       "      <td>es</td>\n",
       "      <td>NEG</td>\n",
       "    </tr>\n",
       "    <tr>\n",
       "      <th>9564</th>\n",
       "      <td>@MariaIsabelDeRo vaya spoiler más gratuito para los que aún no la hemos empezado</td>\n",
       "      <td>ES</td>\n",
       "      <td>NEG</td>\n",
       "    </tr>\n",
       "    <tr>\n",
       "      <th>4863</th>\n",
       "      <td>@perriestheory sabes que en 2012 o 13 tenía una novela de mierda en la que perrie era mala</td>\n",
       "      <td>es</td>\n",
       "      <td>NEG</td>\n",
       "    </tr>\n",
       "    <tr>\n",
       "      <th>1844</th>\n",
       "      <td>@Varce_c que triste es la realidad</td>\n",
       "      <td>cr</td>\n",
       "      <td>NEG</td>\n",
       "    </tr>\n",
       "    <tr>\n",
       "      <th>4794</th>\n",
       "      <td>días de frío = agua extremadamente fría para tomar</td>\n",
       "      <td>uy</td>\n",
       "      <td>NEG</td>\n",
       "    </tr>\n",
       "    <tr>\n",
       "      <th>2906</th>\n",
       "      <td>@PierinaMz Los más buenazos, son los medio gruesitos y cortados de forma vertical. Según yo.</td>\n",
       "      <td>pe</td>\n",
       "      <td>POS</td>\n",
       "    </tr>\n",
       "    <tr>\n",
       "      <th>8740</th>\n",
       "      <td>@albeferrando @DGTes Hola Alberto. Tengo la misma problema, he perdido unas horas  ¿Lo has obtenido? #dgtes</td>\n",
       "      <td>ES</td>\n",
       "      <td>NEG</td>\n",
       "    </tr>\n",
       "    <tr>\n",
       "      <th>5836</th>\n",
       "      <td>Si te vas a sentir sincitiotrofoblasto para invadir, primero fijate de que célula germinal provienes</td>\n",
       "      <td>mx</td>\n",
       "      <td>NEG</td>\n",
       "    </tr>\n",
       "    <tr>\n",
       "      <th>11943</th>\n",
       "      <td>Hola a todos corazones, buen día Y FELIZ NAVIDAD A TODOS USTEDES! DIOS ME LOS BENDIGA Y ME LOS LLENE DE TODO SU AMOR</td>\n",
       "      <td>MX</td>\n",
       "      <td>POS</td>\n",
       "    </tr>\n",
       "  </tbody>\n",
       "</table>\n",
       "</div>"
      ],
      "text/plain": [
       "                                                                                                                                       text  \\\n",
       "12381              @julioastillero @ElverGo13 Don Julio es siempre critico con AMLO/morena pero estoy seguro que en 2006 y 2012 votó por el   \n",
       "836    @120futbol La sensación térmica va de la mano de la humedad, a más humedad peor y más bochorno, la cosa estaba seca en ese momento!    \n",
       "9564                                                      @MariaIsabelDeRo vaya spoiler más gratuito para los que aún no la hemos empezado    \n",
       "4863                                            @perriestheory sabes que en 2012 o 13 tenía una novela de mierda en la que perrie era mala    \n",
       "1844                                                                                                     @Varce_c que triste es la realidad   \n",
       "4794                                                                                     días de frío = agua extremadamente fría para tomar   \n",
       "2906                                           @PierinaMz Los más buenazos, son los medio gruesitos y cortados de forma vertical. Según yo.   \n",
       "8740                            @albeferrando @DGTes Hola Alberto. Tengo la misma problema, he perdido unas horas  ¿Lo has obtenido? #dgtes   \n",
       "5836                                   Si te vas a sentir sincitiotrofoblasto para invadir, primero fijate de que célula germinal provienes   \n",
       "11943                  Hola a todos corazones, buen día Y FELIZ NAVIDAD A TODOS USTEDES! DIOS ME LOS BENDIGA Y ME LOS LLENE DE TODO SU AMOR   \n",
       "\n",
       "      lang label  \n",
       "12381   MX   NEU  \n",
       "836     es   NEG  \n",
       "9564    ES   NEG  \n",
       "4863    es   NEG  \n",
       "1844    cr   NEG  \n",
       "4794    uy   NEG  \n",
       "2906    pe   POS  \n",
       "8740    ES   NEG  \n",
       "5836    mx   NEG  \n",
       "11943   MX   POS  "
      ]
     },
     "execution_count": 29,
     "metadata": {},
     "output_type": "execute_result"
    }
   ],
   "source": [
    "import pandas as pd\n",
    "pd.options.display.max_colwidth = 150\n",
    "\n",
    "df.sample(10, random_state=42)\n"
   ]
  },
  {
   "cell_type": "markdown",
   "metadata": {},
   "source": [
    "Veamos primero las longitudes (a ver si no hay nada mal cargado)"
   ]
  },
  {
   "cell_type": "code",
   "execution_count": 30,
   "metadata": {},
   "outputs": [
    {
     "data": {
      "text/plain": [
       "NEG    39.802881\n",
       "POS    30.684403\n",
       "NEU    29.512716\n",
       "Name: label, dtype: float64"
      ]
     },
     "execution_count": 30,
     "metadata": {},
     "output_type": "execute_result"
    }
   ],
   "source": [
    "df[\"label\"].value_counts(normalize=True) * 100"
   ]
  },
  {
   "cell_type": "code",
   "execution_count": null,
   "metadata": {},
   "outputs": [],
   "source": []
  }
 ],
 "metadata": {
  "interpreter": {
   "hash": "387abc9bc94d8eb1bd0148a5d4cb2bf99bc3b40fa501b808e2b508b4f65ed831"
  },
  "kernelspec": {
   "display_name": "Python 3.8.5 64-bit ('pysent-oyXQVI9B': pipenv)",
   "language": "python",
   "name": "python3"
  },
  "language_info": {
   "codemirror_mode": {
    "name": "ipython",
    "version": 3
   },
   "file_extension": ".py",
   "mimetype": "text/x-python",
   "name": "python",
   "nbconvert_exporter": "python",
   "pygments_lexer": "ipython3",
   "version": "3.7.12"
  },
  "metadata": {
   "interpreter": {
    "hash": "1b2ee3c7e4be117f16044e4287774c113d04cbc1cc9e7e3b16e6e098f73486a4"
   }
  },
  "orig_nbformat": 3
 },
 "nbformat": 4,
 "nbformat_minor": 4
}
