{
 "cells": [
  {
   "cell_type": "markdown",
   "metadata": {},
   "source": [
    "## Datasets\n",
    "\n",
    "Hago un dump de los datasets para usar en otro proyecto"
   ]
  },
  {
   "cell_type": "code",
   "execution_count": 7,
   "metadata": {},
   "outputs": [
    {
     "name": "stdout",
     "output_type": "stream",
     "text": [
      "4802 2443 7264\n"
     ]
    }
   ],
   "source": [
    "from pysentimiento.tass import (\n",
    "    load_datasets as load_tass_datasets, id2label as id2labeltass, label2id as label2idtass,\n",
    "    load_model,\n",
    ")\n",
    "import pandas  as pd \n",
    "train, dev, test = load_tass_datasets(preprocess=False, return_df=True)\n",
    "\n",
    "train[\"split\"] = \"train\"\n",
    "dev[\"split\"] = \"dev\"\n",
    "test[\"split\"] = \"test\"\n",
    "\n",
    "df = pd.concat([train, dev, test])\n"
   ]
  },
  {
   "cell_type": "code",
   "execution_count": 8,
   "metadata": {},
   "outputs": [],
   "source": [
    "df.to_csv(\"tass_2020.csv\", columns=[\"text\", \"lang\", \"polarity\", \"split\"])"
   ]
  },
  {
   "cell_type": "markdown",
   "metadata": {},
   "source": [
    "## Emotion Analysis"
   ]
  },
  {
   "cell_type": "code",
   "execution_count": 12,
   "metadata": {},
   "outputs": [
    {
     "data": {
      "text/html": [
       "<div>\n",
       "<style scoped>\n",
       "    .dataframe tbody tr th:only-of-type {\n",
       "        vertical-align: middle;\n",
       "    }\n",
       "\n",
       "    .dataframe tbody tr th {\n",
       "        vertical-align: top;\n",
       "    }\n",
       "\n",
       "    .dataframe thead th {\n",
       "        text-align: right;\n",
       "    }\n",
       "</style>\n",
       "<table border=\"1\" class=\"dataframe\">\n",
       "  <thead>\n",
       "    <tr style=\"text-align: right;\">\n",
       "      <th></th>\n",
       "      <th>text</th>\n",
       "      <th>label</th>\n",
       "      <th>offensive</th>\n",
       "      <th>split</th>\n",
       "    </tr>\n",
       "    <tr>\n",
       "      <th>id</th>\n",
       "      <th></th>\n",
       "      <th></th>\n",
       "      <th></th>\n",
       "      <th></th>\n",
       "    </tr>\n",
       "  </thead>\n",
       "  <tbody>\n",
       "    <tr>\n",
       "      <th>1</th>\n",
       "      <td>Acabo de ver la gran pérdida que estamos tenie...</td>\n",
       "      <td>sadness</td>\n",
       "      <td>0</td>\n",
       "      <td>train</td>\n",
       "    </tr>\n",
       "    <tr>\n",
       "      <th>2</th>\n",
       "      <td>USER ¿A que vamos a reconstruir Notre Dame ant...</td>\n",
       "      <td>sadness</td>\n",
       "      <td>0</td>\n",
       "      <td>train</td>\n",
       "    </tr>\n",
       "    <tr>\n",
       "      <th>3</th>\n",
       "      <td>Desde ayer andan sufriendo por el incendio de ...</td>\n",
       "      <td>anger</td>\n",
       "      <td>0</td>\n",
       "      <td>train</td>\n",
       "    </tr>\n",
       "    <tr>\n",
       "      <th>4</th>\n",
       "      <td>Muy afectada -como muchísima gente- por lo ocu...</td>\n",
       "      <td>sadness</td>\n",
       "      <td>0</td>\n",
       "      <td>train</td>\n",
       "    </tr>\n",
       "    <tr>\n",
       "      <th>5</th>\n",
       "      <td>Es una mierda lo que paso en HASHTAG pero plea...</td>\n",
       "      <td>disgust</td>\n",
       "      <td>1</td>\n",
       "      <td>train</td>\n",
       "    </tr>\n",
       "    <tr>\n",
       "      <th>...</th>\n",
       "      <td>...</td>\n",
       "      <td>...</td>\n",
       "      <td>...</td>\n",
       "      <td>...</td>\n",
       "    </tr>\n",
       "    <tr>\n",
       "      <th>8395</th>\n",
       "      <td>Se han dado cuenta que todos esos mentirosos c...</td>\n",
       "      <td>anger</td>\n",
       "      <td>1</td>\n",
       "      <td>test</td>\n",
       "    </tr>\n",
       "    <tr>\n",
       "      <th>8397</th>\n",
       "      <td>USER USER Pocas cosas son tan imbéciles como l...</td>\n",
       "      <td>anger</td>\n",
       "      <td>1</td>\n",
       "      <td>test</td>\n",
       "    </tr>\n",
       "    <tr>\n",
       "      <th>8398</th>\n",
       "      <td>Es imposible describir lo que se vive en HASHT...</td>\n",
       "      <td>anger</td>\n",
       "      <td>1</td>\n",
       "      <td>test</td>\n",
       "    </tr>\n",
       "    <tr>\n",
       "      <th>8403</th>\n",
       "      <td>Dembele de mierda piernas chuecas regalaste do...</td>\n",
       "      <td>anger</td>\n",
       "      <td>1</td>\n",
       "      <td>test</td>\n",
       "    </tr>\n",
       "    <tr>\n",
       "      <th>8406</th>\n",
       "      <td>HASHTAG Puta q son desagradables los wnes del ...</td>\n",
       "      <td>anger</td>\n",
       "      <td>1</td>\n",
       "      <td>test</td>\n",
       "    </tr>\n",
       "  </tbody>\n",
       "</table>\n",
       "<p>8409 rows × 4 columns</p>\n",
       "</div>"
      ],
      "text/plain": [
       "                                                   text    label  offensive  \\\n",
       "id                                                                            \n",
       "1     Acabo de ver la gran pérdida que estamos tenie...  sadness          0   \n",
       "2     USER ¿A que vamos a reconstruir Notre Dame ant...  sadness          0   \n",
       "3     Desde ayer andan sufriendo por el incendio de ...    anger          0   \n",
       "4     Muy afectada -como muchísima gente- por lo ocu...  sadness          0   \n",
       "5     Es una mierda lo que paso en HASHTAG pero plea...  disgust          1   \n",
       "...                                                 ...      ...        ...   \n",
       "8395  Se han dado cuenta que todos esos mentirosos c...    anger          1   \n",
       "8397  USER USER Pocas cosas son tan imbéciles como l...    anger          1   \n",
       "8398  Es imposible describir lo que se vive en HASHT...    anger          1   \n",
       "8403  Dembele de mierda piernas chuecas regalaste do...    anger          1   \n",
       "8406  HASHTAG Puta q son desagradables los wnes del ...    anger          1   \n",
       "\n",
       "      split  \n",
       "id           \n",
       "1     train  \n",
       "2     train  \n",
       "3     train  \n",
       "4     train  \n",
       "5     train  \n",
       "...     ...  \n",
       "8395   test  \n",
       "8397   test  \n",
       "8398   test  \n",
       "8403   test  \n",
       "8406   test  \n",
       "\n",
       "[8409 rows x 4 columns]"
      ]
     },
     "execution_count": 12,
     "metadata": {},
     "output_type": "execute_result"
    }
   ],
   "source": [
    "df_train = pd.read_csv(\"../../data/emoevent/train_es.csv\")\n",
    "\n",
    "df_test = pd.read_csv(\"../../data/emoevent/test_es.csv\")\n",
    "df_train[\"split\"] = \"train\"\n",
    "df_test[\"split\"] = \"test\"\n",
    "\n",
    "df_emo = pd.concat([df_train, df_test]).set_index(\"id\")\n",
    "\n",
    "df_emo"
   ]
  },
  {
   "cell_type": "code",
   "execution_count": 13,
   "metadata": {},
   "outputs": [],
   "source": [
    "df_emo.to_csv(\"emoevent_2020.csv\")"
   ]
  },
  {
   "cell_type": "code",
   "execution_count": null,
   "metadata": {},
   "outputs": [],
   "source": []
  }
 ],
 "metadata": {
  "interpreter": {
   "hash": "1b2ee3c7e4be117f16044e4287774c113d04cbc1cc9e7e3b16e6e098f73486a4"
  },
  "kernelspec": {
   "display_name": "Python 3.8.5 64-bit ('pysent-oyXQVI9B': pipenv)",
   "name": "python3"
  },
  "language_info": {
   "codemirror_mode": {
    "name": "ipython",
    "version": 3
   },
   "file_extension": ".py",
   "mimetype": "text/x-python",
   "name": "python",
   "nbconvert_exporter": "python",
   "pygments_lexer": "ipython3",
   "version": "3.8.5"
  },
  "orig_nbformat": 4
 },
 "nbformat": 4,
 "nbformat_minor": 2
}