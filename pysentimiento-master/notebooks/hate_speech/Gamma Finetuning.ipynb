{
 "cells": [
  {
   "cell_type": "markdown",
   "metadata": {},
   "source": [
    "## Gamma finetuning\n",
    "\n",
    "En esta notebook ajustamos el hiperparámetro gamma de la función de pérdida jerárquica. \n",
    "\n",
    "Recordemos que definimos nuestra función como\n",
    "\n",
    "$$\n",
    "L(y, \\widehat{y}) = J(y_{HS}, \\widehat{y_{HS}}) + \\beta(y_{HS}) \\sum_{x \\in {TR, AG}} J(y_x, \\widehat{y_x})\\\\\n",
    "$$\n",
    "\n",
    "siendo $J$ la entropía cruzada y $B(y) = (1-y) \\gamma + y$ la función que pondera la pérdida de las variables del segundo \n",
    "\n",
    "Queremos encontrar el valor de $\\gamma$ que maximice el EMR"
   ]
  },
  {
   "cell_type": "markdown",
   "metadata": {},
   "source": [
    "## EMR"
   ]
  },
  {
   "cell_type": "code",
   "execution_count": 70,
   "metadata": {},
   "outputs": [
    {
     "name": "stdout",
     "output_type": "stream",
     "text": [
      "beto-taskb-hier-0.005.json  beto-taskb-hier-0.1.json  beto-taskb-hier-0.8.json\n",
      "beto-taskb-hier-0.00.json   beto-taskb-hier-0.2.json  beto-taskb-hier-0.9.json\n",
      "beto-taskb-hier-0.01.json   beto-taskb-hier-0.3.json  beto-taskb-hier-1.0.json\n",
      "beto-taskb-hier-0.05.json   beto-taskb-hier-0.7.json\n"
     ]
    },
    {
     "data": {
      "text/plain": [
       "110"
      ]
     },
     "execution_count": 70,
     "metadata": {},
     "output_type": "execute_result"
    }
   ],
   "source": [
    "!ls ../../evaluations/hate_speech/dev/emr\n",
    "from glob import glob \n",
    "import json\n",
    "files = glob(\"../../evaluations/hate_speech/dev/emr/beto-taskb-hier-*.json\")\n",
    "\n",
    "runs = []\n",
    "\n",
    "for path in files:\n",
    "    with open(path) as f:\n",
    "        run = json.load(f)\n",
    "\n",
    "        runs.append(run)\n",
    "        \n",
    "data = []\n",
    "\n",
    "for run in runs:\n",
    "    gamma = run[\"train_args\"][\"gamma\"]\n",
    "    \n",
    "    for evaluation in run[\"evaluations\"][\"hate_speech\"]:\n",
    "        data.append({\n",
    "            \"gamma\": gamma,\n",
    "            \"emr\": evaluation[\"eval_emr\"],\n",
    "            \"emr_no_gating\": evaluation[\"eval_emr_no_gating\"],\n",
    "            \"macro_f1\": evaluation[\"eval_macro_f1\"],\n",
    "            \"hate_macro_f1\": evaluation[\"eval_macro_hs_f1_score\"],\n",
    "        })\n",
    "\n",
    "len(data)\n"
   ]
  },
  {
   "cell_type": "code",
   "execution_count": 71,
   "metadata": {},
   "outputs": [
    {
     "data": {
      "text/html": [
       "<div>\n",
       "<style scoped>\n",
       "    .dataframe tbody tr th:only-of-type {\n",
       "        vertical-align: middle;\n",
       "    }\n",
       "\n",
       "    .dataframe tbody tr th {\n",
       "        vertical-align: top;\n",
       "    }\n",
       "\n",
       "    .dataframe thead th {\n",
       "        text-align: right;\n",
       "    }\n",
       "</style>\n",
       "<table border=\"1\" class=\"dataframe\">\n",
       "  <thead>\n",
       "    <tr style=\"text-align: right;\">\n",
       "      <th></th>\n",
       "      <th>emr</th>\n",
       "      <th>emr_no_gating</th>\n",
       "      <th>macro_f1</th>\n",
       "      <th>hate_macro_f1</th>\n",
       "    </tr>\n",
       "    <tr>\n",
       "      <th>gamma</th>\n",
       "      <th></th>\n",
       "      <th></th>\n",
       "      <th></th>\n",
       "      <th></th>\n",
       "    </tr>\n",
       "  </thead>\n",
       "  <tbody>\n",
       "    <tr>\n",
       "      <th>0.000</th>\n",
       "      <td>0.7904</td>\n",
       "      <td>0.3646</td>\n",
       "      <td>0.822042</td>\n",
       "      <td>0.852145</td>\n",
       "    </tr>\n",
       "    <tr>\n",
       "      <th>0.005</th>\n",
       "      <td>0.7920</td>\n",
       "      <td>0.6060</td>\n",
       "      <td>0.825141</td>\n",
       "      <td>0.853501</td>\n",
       "    </tr>\n",
       "    <tr>\n",
       "      <th>0.010</th>\n",
       "      <td>0.7916</td>\n",
       "      <td>0.6728</td>\n",
       "      <td>0.827629</td>\n",
       "      <td>0.860450</td>\n",
       "    </tr>\n",
       "    <tr>\n",
       "      <th>0.050</th>\n",
       "      <td>0.7892</td>\n",
       "      <td>0.7534</td>\n",
       "      <td>0.822162</td>\n",
       "      <td>0.856245</td>\n",
       "    </tr>\n",
       "    <tr>\n",
       "      <th>0.100</th>\n",
       "      <td>0.7924</td>\n",
       "      <td>0.7702</td>\n",
       "      <td>0.820598</td>\n",
       "      <td>0.853353</td>\n",
       "    </tr>\n",
       "    <tr>\n",
       "      <th>0.200</th>\n",
       "      <td>0.7888</td>\n",
       "      <td>0.7772</td>\n",
       "      <td>0.813419</td>\n",
       "      <td>0.849760</td>\n",
       "    </tr>\n",
       "    <tr>\n",
       "      <th>0.300</th>\n",
       "      <td>0.7854</td>\n",
       "      <td>0.7766</td>\n",
       "      <td>0.821130</td>\n",
       "      <td>0.853315</td>\n",
       "    </tr>\n",
       "    <tr>\n",
       "      <th>0.700</th>\n",
       "      <td>0.7842</td>\n",
       "      <td>0.7820</td>\n",
       "      <td>0.809725</td>\n",
       "      <td>0.849407</td>\n",
       "    </tr>\n",
       "    <tr>\n",
       "      <th>0.800</th>\n",
       "      <td>0.7836</td>\n",
       "      <td>0.7814</td>\n",
       "      <td>0.815442</td>\n",
       "      <td>0.852737</td>\n",
       "    </tr>\n",
       "    <tr>\n",
       "      <th>0.900</th>\n",
       "      <td>0.7836</td>\n",
       "      <td>0.7826</td>\n",
       "      <td>0.822340</td>\n",
       "      <td>0.859107</td>\n",
       "    </tr>\n",
       "    <tr>\n",
       "      <th>1.000</th>\n",
       "      <td>0.7822</td>\n",
       "      <td>0.7814</td>\n",
       "      <td>0.821028</td>\n",
       "      <td>0.860979</td>\n",
       "    </tr>\n",
       "  </tbody>\n",
       "</table>\n",
       "</div>"
      ],
      "text/plain": [
       "          emr  emr_no_gating  macro_f1  hate_macro_f1\n",
       "gamma                                                \n",
       "0.000  0.7904         0.3646  0.822042       0.852145\n",
       "0.005  0.7920         0.6060  0.825141       0.853501\n",
       "0.010  0.7916         0.6728  0.827629       0.860450\n",
       "0.050  0.7892         0.7534  0.822162       0.856245\n",
       "0.100  0.7924         0.7702  0.820598       0.853353\n",
       "0.200  0.7888         0.7772  0.813419       0.849760\n",
       "0.300  0.7854         0.7766  0.821130       0.853315\n",
       "0.700  0.7842         0.7820  0.809725       0.849407\n",
       "0.800  0.7836         0.7814  0.815442       0.852737\n",
       "0.900  0.7836         0.7826  0.822340       0.859107\n",
       "1.000  0.7822         0.7814  0.821028       0.860979"
      ]
     },
     "execution_count": 71,
     "metadata": {},
     "output_type": "execute_result"
    }
   ],
   "source": [
    "import pandas as pd\n",
    "df = pd.DataFrame(data)\n",
    "\n",
    "df.groupby(\"gamma\").mean()"
   ]
  },
  {
   "cell_type": "code",
   "execution_count": 72,
   "metadata": {},
   "outputs": [
    {
     "data": {
      "text/plain": [
       "[]"
      ]
     },
     "execution_count": 72,
     "metadata": {},
     "output_type": "execute_result"
    },
    {
     "data": {
      "image/png": "[encoded data removed]",
      "text/plain": [
       "<Figure size 432x288 with 1 Axes>"
      ]
     },
     "metadata": {
      "needs_background": "light"
     },
     "output_type": "display_data"
    }
   ],
   "source": [
    "import seaborn as sns\n",
    "import matplotlib.pyplot as plt\n",
    "\n",
    "sns.lineplot(x=\"gamma\", y=\"emr\", data=df)\n",
    "\n",
    "plt.semilogx()"
   ]
  },
  {
   "cell_type": "code",
   "execution_count": 73,
   "metadata": {},
   "outputs": [
    {
     "data": {
      "text/plain": [
       "[]"
      ]
     },
     "execution_count": 73,
     "metadata": {},
     "output_type": "execute_result"
    },
    {
     "data": {
      "image/png": "[encoded data removed]",
      "text/plain": [
       "<Figure size 432x288 with 1 Axes>"
      ]
     },
     "metadata": {
      "needs_background": "light"
     },
     "output_type": "display_data"
    }
   ],
   "source": [
    "\n",
    "sns.lineplot(x=\"gamma\", y=\"emr_no_gating\", data=df)\n",
    "\n",
    "plt.semilogx()"
   ]
  },
  {
   "cell_type": "markdown",
   "metadata": {},
   "source": [
    "## English"
   ]
  },
  {
   "cell_type": "code",
   "execution_count": 32,
   "metadata": {},
   "outputs": [
    {
     "name": "stdout",
     "output_type": "stream",
     "text": [
      "bert-taskb-hier-0.005.json  bertweet-taskb-hier-0.005.json\n",
      "bert-taskb-hier-0.00.json   bertweet-taskb-hier-0.00.json\n",
      "bert-taskb-hier-0.01.json   bertweet-taskb-hier-0.01.json\n",
      "bert-taskb-hier-0.05.json   bertweet-taskb-hier-0.05.json\n",
      "bert-taskb-hier-0.1.json    bertweet-taskb-hier-0.1.json\n",
      "bert-taskb-hier-0.2.json    bertweet-taskb-hier-0.2.json\n",
      "bert-taskb-hier-0.3.json    bertweet-taskb-hier-0.3.json\n",
      "bert-taskb-hier-0.7.json    bertweet-taskb-hier-0.7.json\n",
      "bert-taskb-hier-0.8.json    bertweet-taskb-hier-0.8.json\n",
      "bert-taskb-hier-0.9.json    bertweet-taskb-hier-0.9.json\n",
      "bert-taskb-hier-1.0.json    bertweet-taskb-hier-1.0.json\n"
     ]
    }
   ],
   "source": [
    "!ls ../../evaluations/hate_speech/dev/emr/en"
   ]
  },
  {
   "cell_type": "code",
   "execution_count": 29,
   "metadata": {},
   "outputs": [
    {
     "data": {
      "text/html": [
       "<div>\n",
       "<style scoped>\n",
       "    .dataframe tbody tr th:only-of-type {\n",
       "        vertical-align: middle;\n",
       "    }\n",
       "\n",
       "    .dataframe tbody tr th {\n",
       "        vertical-align: top;\n",
       "    }\n",
       "\n",
       "    .dataframe thead th {\n",
       "        text-align: right;\n",
       "    }\n",
       "</style>\n",
       "<table border=\"1\" class=\"dataframe\">\n",
       "  <thead>\n",
       "    <tr style=\"text-align: right;\">\n",
       "      <th></th>\n",
       "      <th>emr</th>\n",
       "      <th>emr_no_gating</th>\n",
       "      <th>macro_f1</th>\n",
       "      <th>hate_macro_f1</th>\n",
       "    </tr>\n",
       "    <tr>\n",
       "      <th>gamma</th>\n",
       "      <th></th>\n",
       "      <th></th>\n",
       "      <th></th>\n",
       "      <th></th>\n",
       "    </tr>\n",
       "  </thead>\n",
       "  <tbody>\n",
       "    <tr>\n",
       "      <th>0.000</th>\n",
       "      <td>0.6684</td>\n",
       "      <td>0.4996</td>\n",
       "      <td>0.674521</td>\n",
       "      <td>0.782214</td>\n",
       "    </tr>\n",
       "    <tr>\n",
       "      <th>0.005</th>\n",
       "      <td>0.6712</td>\n",
       "      <td>0.5895</td>\n",
       "      <td>0.678165</td>\n",
       "      <td>0.783365</td>\n",
       "    </tr>\n",
       "    <tr>\n",
       "      <th>0.010</th>\n",
       "      <td>0.6744</td>\n",
       "      <td>0.6076</td>\n",
       "      <td>0.680714</td>\n",
       "      <td>0.787734</td>\n",
       "    </tr>\n",
       "    <tr>\n",
       "      <th>0.050</th>\n",
       "      <td>0.6671</td>\n",
       "      <td>0.6303</td>\n",
       "      <td>0.681204</td>\n",
       "      <td>0.784949</td>\n",
       "    </tr>\n",
       "    <tr>\n",
       "      <th>0.100</th>\n",
       "      <td>0.6633</td>\n",
       "      <td>0.6368</td>\n",
       "      <td>0.681118</td>\n",
       "      <td>0.786882</td>\n",
       "    </tr>\n",
       "    <tr>\n",
       "      <th>0.200</th>\n",
       "      <td>0.6689</td>\n",
       "      <td>0.6548</td>\n",
       "      <td>0.689954</td>\n",
       "      <td>0.785104</td>\n",
       "    </tr>\n",
       "    <tr>\n",
       "      <th>0.300</th>\n",
       "      <td>0.6644</td>\n",
       "      <td>0.6575</td>\n",
       "      <td>0.689378</td>\n",
       "      <td>0.783867</td>\n",
       "    </tr>\n",
       "    <tr>\n",
       "      <th>0.700</th>\n",
       "      <td>0.6575</td>\n",
       "      <td>0.6563</td>\n",
       "      <td>0.687696</td>\n",
       "      <td>0.781692</td>\n",
       "    </tr>\n",
       "    <tr>\n",
       "      <th>0.800</th>\n",
       "      <td>0.6554</td>\n",
       "      <td>0.6539</td>\n",
       "      <td>0.681923</td>\n",
       "      <td>0.780406</td>\n",
       "    </tr>\n",
       "    <tr>\n",
       "      <th>0.900</th>\n",
       "      <td>0.6570</td>\n",
       "      <td>0.6562</td>\n",
       "      <td>0.691934</td>\n",
       "      <td>0.782644</td>\n",
       "    </tr>\n",
       "    <tr>\n",
       "      <th>1.000</th>\n",
       "      <td>0.6532</td>\n",
       "      <td>0.6522</td>\n",
       "      <td>0.683230</td>\n",
       "      <td>0.780649</td>\n",
       "    </tr>\n",
       "  </tbody>\n",
       "</table>\n",
       "</div>"
      ],
      "text/plain": [
       "          emr  emr_no_gating  macro_f1  hate_macro_f1\n",
       "gamma                                                \n",
       "0.000  0.6684         0.4996  0.674521       0.782214\n",
       "0.005  0.6712         0.5895  0.678165       0.783365\n",
       "0.010  0.6744         0.6076  0.680714       0.787734\n",
       "0.050  0.6671         0.6303  0.681204       0.784949\n",
       "0.100  0.6633         0.6368  0.681118       0.786882\n",
       "0.200  0.6689         0.6548  0.689954       0.785104\n",
       "0.300  0.6644         0.6575  0.689378       0.783867\n",
       "0.700  0.6575         0.6563  0.687696       0.781692\n",
       "0.800  0.6554         0.6539  0.681923       0.780406\n",
       "0.900  0.6570         0.6562  0.691934       0.782644\n",
       "1.000  0.6532         0.6522  0.683230       0.780649"
      ]
     },
     "execution_count": 29,
     "metadata": {},
     "output_type": "execute_result"
    }
   ],
   "source": [
    "\n",
    "from glob import glob \n",
    "import json\n",
    "import pandas as pd\n",
    "files = glob(\"../../evaluations/hate_speech/dev/emr/en/bert-*hier-*.json\")\n",
    "\n",
    "runs = []\n",
    "\n",
    "for path in files:\n",
    "    with open(path) as f:\n",
    "        run = json.load(f)\n",
    "\n",
    "        runs.append(run)\n",
    "        \n",
    "data = []\n",
    "\n",
    "for run in runs:\n",
    "    gamma = run[\"train_args\"][\"gamma\"]\n",
    "    \n",
    "    for evaluation in run[\"evaluations\"][\"hate_speech\"]:\n",
    "        data.append({\n",
    "            \"gamma\": gamma,\n",
    "            \"emr\": evaluation[\"eval_emr\"],\n",
    "            \"emr_no_gating\": evaluation[\"eval_emr_no_gating\"],\n",
    "            \"macro_f1\": evaluation[\"eval_macro_f1\"],\n",
    "            \"hate_macro_f1\": evaluation[\"eval_macro_hs_f1_score\"],\n",
    "        })\n",
    "\n",
    "len(data)\n",
    "\n",
    "df = pd.DataFrame(data)\n",
    "\n",
    "df.groupby(\"gamma\").mean()"
   ]
  },
  {
   "cell_type": "code",
   "execution_count": 30,
   "metadata": {},
   "outputs": [
    {
     "data": {
      "text/plain": [
       "[]"
      ]
     },
     "execution_count": 30,
     "metadata": {},
     "output_type": "execute_result"
    },
    {
     "data": {
      "image/png": "[encoded data removed]",
      "text/plain": [
       "<Figure size 432x288 with 1 Axes>"
      ]
     },
     "metadata": {
      "needs_background": "light"
     },
     "output_type": "display_data"
    }
   ],
   "source": [
    "import seaborn as sns\n",
    "import matplotlib.pyplot as plt\n",
    "\n",
    "sns.lineplot(x=\"gamma\", y=\"emr\", data=df)\n",
    "\n",
    "plt.semilogx()"
   ]
  },
  {
   "cell_type": "code",
   "execution_count": 33,
   "metadata": {},
   "outputs": [
    {
     "data": {
      "text/html": [
       "<div>\n",
       "<style scoped>\n",
       "    .dataframe tbody tr th:only-of-type {\n",
       "        vertical-align: middle;\n",
       "    }\n",
       "\n",
       "    .dataframe tbody tr th {\n",
       "        vertical-align: top;\n",
       "    }\n",
       "\n",
       "    .dataframe thead th {\n",
       "        text-align: right;\n",
       "    }\n",
       "</style>\n",
       "<table border=\"1\" class=\"dataframe\">\n",
       "  <thead>\n",
       "    <tr style=\"text-align: right;\">\n",
       "      <th></th>\n",
       "      <th>emr</th>\n",
       "      <th>emr_no_gating</th>\n",
       "      <th>macro_f1</th>\n",
       "      <th>hate_macro_f1</th>\n",
       "    </tr>\n",
       "    <tr>\n",
       "      <th>gamma</th>\n",
       "      <th></th>\n",
       "      <th></th>\n",
       "      <th></th>\n",
       "      <th></th>\n",
       "    </tr>\n",
       "  </thead>\n",
       "  <tbody>\n",
       "    <tr>\n",
       "      <th>0.000</th>\n",
       "      <td>0.676100</td>\n",
       "      <td>0.523000</td>\n",
       "      <td>0.696076</td>\n",
       "      <td>0.794001</td>\n",
       "    </tr>\n",
       "    <tr>\n",
       "      <th>0.005</th>\n",
       "      <td>0.674800</td>\n",
       "      <td>0.585700</td>\n",
       "      <td>0.692343</td>\n",
       "      <td>0.789833</td>\n",
       "    </tr>\n",
       "    <tr>\n",
       "      <th>0.010</th>\n",
       "      <td>0.677900</td>\n",
       "      <td>0.596300</td>\n",
       "      <td>0.694316</td>\n",
       "      <td>0.791001</td>\n",
       "    </tr>\n",
       "    <tr>\n",
       "      <th>0.050</th>\n",
       "      <td>0.673800</td>\n",
       "      <td>0.625600</td>\n",
       "      <td>0.691031</td>\n",
       "      <td>0.787872</td>\n",
       "    </tr>\n",
       "    <tr>\n",
       "      <th>0.100</th>\n",
       "      <td>0.675800</td>\n",
       "      <td>0.641300</td>\n",
       "      <td>0.693406</td>\n",
       "      <td>0.790065</td>\n",
       "    </tr>\n",
       "    <tr>\n",
       "      <th>0.200</th>\n",
       "      <td>0.680400</td>\n",
       "      <td>0.656200</td>\n",
       "      <td>0.695584</td>\n",
       "      <td>0.792990</td>\n",
       "    </tr>\n",
       "    <tr>\n",
       "      <th>0.300</th>\n",
       "      <td>0.675308</td>\n",
       "      <td>0.654615</td>\n",
       "      <td>0.693709</td>\n",
       "      <td>0.794485</td>\n",
       "    </tr>\n",
       "    <tr>\n",
       "      <th>0.700</th>\n",
       "      <td>0.672600</td>\n",
       "      <td>0.668600</td>\n",
       "      <td>0.692973</td>\n",
       "      <td>0.791513</td>\n",
       "    </tr>\n",
       "    <tr>\n",
       "      <th>0.800</th>\n",
       "      <td>0.671900</td>\n",
       "      <td>0.667000</td>\n",
       "      <td>0.687184</td>\n",
       "      <td>0.785942</td>\n",
       "    </tr>\n",
       "    <tr>\n",
       "      <th>0.900</th>\n",
       "      <td>0.671500</td>\n",
       "      <td>0.668300</td>\n",
       "      <td>0.686913</td>\n",
       "      <td>0.789994</td>\n",
       "    </tr>\n",
       "    <tr>\n",
       "      <th>1.000</th>\n",
       "      <td>0.670100</td>\n",
       "      <td>0.668700</td>\n",
       "      <td>0.697505</td>\n",
       "      <td>0.794230</td>\n",
       "    </tr>\n",
       "  </tbody>\n",
       "</table>\n",
       "</div>"
      ],
      "text/plain": [
       "            emr  emr_no_gating  macro_f1  hate_macro_f1\n",
       "gamma                                                  \n",
       "0.000  0.676100       0.523000  0.696076       0.794001\n",
       "0.005  0.674800       0.585700  0.692343       0.789833\n",
       "0.010  0.677900       0.596300  0.694316       0.791001\n",
       "0.050  0.673800       0.625600  0.691031       0.787872\n",
       "0.100  0.675800       0.641300  0.693406       0.790065\n",
       "0.200  0.680400       0.656200  0.695584       0.792990\n",
       "0.300  0.675308       0.654615  0.693709       0.794485\n",
       "0.700  0.672600       0.668600  0.692973       0.791513\n",
       "0.800  0.671900       0.667000  0.687184       0.785942\n",
       "0.900  0.671500       0.668300  0.686913       0.789994\n",
       "1.000  0.670100       0.668700  0.697505       0.794230"
      ]
     },
     "execution_count": 33,
     "metadata": {},
     "output_type": "execute_result"
    }
   ],
   "source": [
    "\n",
    "from glob import glob \n",
    "import json\n",
    "import pandas as pd\n",
    "files = glob(\"../../evaluations/hate_speech/dev/emr/en/bertweet-*hier-*.json\")\n",
    "\n",
    "runs = []\n",
    "\n",
    "for path in files:\n",
    "    with open(path) as f:\n",
    "        run = json.load(f)\n",
    "\n",
    "        runs.append(run)\n",
    "        \n",
    "data = []\n",
    "\n",
    "for run in runs:\n",
    "    gamma = run[\"train_args\"][\"gamma\"]\n",
    "    \n",
    "    for evaluation in run[\"evaluations\"][\"hate_speech\"]:\n",
    "        data.append({\n",
    "            \"gamma\": gamma,\n",
    "            \"emr\": evaluation[\"eval_emr\"],\n",
    "            \"emr_no_gating\": evaluation[\"eval_emr_no_gating\"],\n",
    "            \"macro_f1\": evaluation[\"eval_macro_f1\"],\n",
    "            \"hate_macro_f1\": evaluation[\"eval_macro_hs_f1_score\"],\n",
    "        })\n",
    "\n",
    "len(data)\n",
    "\n",
    "df = pd.DataFrame(data)\n",
    "\n",
    "df.groupby(\"gamma\").mean()"
   ]
  },
  {
   "cell_type": "code",
   "execution_count": 34,
   "metadata": {},
   "outputs": [
    {
     "data": {
      "text/plain": [
       "[]"
      ]
     },
     "execution_count": 34,
     "metadata": {},
     "output_type": "execute_result"
    },
    {
     "data": {
      "image/png": "[encoded data removed]",
      "text/plain": [
       "<Figure size 432x288 with 1 Axes>"
      ]
     },
     "metadata": {
      "needs_background": "light"
     },
     "output_type": "display_data"
    }
   ],
   "source": [
    "import seaborn as sns\n",
    "import matplotlib.pyplot as plt\n",
    "\n",
    "sns.lineplot(x=\"gamma\", y=\"emr\", data=df)\n",
    "\n",
    "plt.semilogx()"
   ]
  },
  {
   "cell_type": "markdown",
   "metadata": {},
   "source": [
    "Elijo $\\gamma = 0.2$ para ambos"
   ]
  },
  {
   "cell_type": "code",
   "execution_count": null,
   "metadata": {},
   "outputs": [],
   "source": []
  }
 ],
 "metadata": {
  "interpreter": {
   "hash": "387abc9bc94d8eb1bd0148a5d4cb2bf99bc3b40fa501b808e2b508b4f65ed831"
  },
  "kernelspec": {
   "display_name": "Python 3.7.12 64-bit ('pysentimiento-bwlKzHxB-py3.7': poetry)",
   "name": "python3"
  },
  "language_info": {
   "codemirror_mode": {
    "name": "ipython",
    "version": 3
   },
   "file_extension": ".py",
   "mimetype": "text/x-python",
   "name": "python",
   "nbconvert_exporter": "python",
   "pygments_lexer": "ipython3",
   "version": "3.7.12"
  },
  "orig_nbformat": 4
 },
 "nbformat": 4,
 "nbformat_minor": 2
}
