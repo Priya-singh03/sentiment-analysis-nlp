{
 "cells": [
  {
   "cell_type": "code",
   "execution_count": 2,
   "metadata": {},
   "outputs": [
    {
     "name": "stdout",
     "output_type": "stream",
     "text": [
      "bert.json  bertweet.json  beto.json  roberta.json  robertuito.json\n"
     ]
    }
   ],
   "source": [
    "!ls ../../evaluations/hate_speech/task_a/"
   ]
  },
  {
   "cell_type": "code",
   "execution_count": 2,
   "metadata": {},
   "outputs": [
    {
     "name": "stdout",
     "output_type": "stream",
     "text": [
      "We have 10 beto evaluations\n",
      "We have 10 robertuito evaluations\n",
      "We have 10 bert evaluations\n",
      "We have 10 roberta evaluations\n",
      "We have 10 bertweet evaluations\n"
     ]
    },
    {
     "data": {
      "text/html": [
       "<div>\n",
       "<style scoped>\n",
       "    .dataframe tbody tr th:only-of-type {\n",
       "        vertical-align: middle;\n",
       "    }\n",
       "\n",
       "    .dataframe tbody tr th {\n",
       "        vertical-align: top;\n",
       "    }\n",
       "\n",
       "    .dataframe thead th {\n",
       "        text-align: right;\n",
       "    }\n",
       "</style>\n",
       "<table border=\"1\" class=\"dataframe\">\n",
       "  <thead>\n",
       "    <tr style=\"text-align: right;\">\n",
       "      <th></th>\n",
       "      <th>hateful_recall</th>\n",
       "      <th>hateful_precision</th>\n",
       "      <th>hateful_f1</th>\n",
       "      <th>macro_f1</th>\n",
       "      <th>acc</th>\n",
       "    </tr>\n",
       "  </thead>\n",
       "  <tbody>\n",
       "    <tr>\n",
       "      <th>beto mean</th>\n",
       "      <td>0.838939</td>\n",
       "      <td>0.674079</td>\n",
       "      <td>0.746965</td>\n",
       "      <td>0.764005</td>\n",
       "      <td>0.765437</td>\n",
       "    </tr>\n",
       "    <tr>\n",
       "      <th>robertuito mean</th>\n",
       "      <td>0.849242</td>\n",
       "      <td>0.722964</td>\n",
       "      <td>0.780701</td>\n",
       "      <td>0.801030</td>\n",
       "      <td>0.803187</td>\n",
       "    </tr>\n",
       "    <tr>\n",
       "      <th>bert mean</th>\n",
       "      <td>0.968095</td>\n",
       "      <td>0.474335</td>\n",
       "      <td>0.636571</td>\n",
       "      <td>0.495758</td>\n",
       "      <td>0.535433</td>\n",
       "    </tr>\n",
       "    <tr>\n",
       "      <th>roberta mean</th>\n",
       "      <td>0.966825</td>\n",
       "      <td>0.469692</td>\n",
       "      <td>0.632221</td>\n",
       "      <td>0.485789</td>\n",
       "      <td>0.527533</td>\n",
       "    </tr>\n",
       "    <tr>\n",
       "      <th>bertweet mean</th>\n",
       "      <td>0.958810</td>\n",
       "      <td>0.495322</td>\n",
       "      <td>0.653031</td>\n",
       "      <td>0.546343</td>\n",
       "      <td>0.571767</td>\n",
       "    </tr>\n",
       "  </tbody>\n",
       "</table>\n",
       "</div>"
      ],
      "text/plain": [
       "                 hateful_recall  hateful_precision  hateful_f1  macro_f1  \\\n",
       "beto mean              0.838939           0.674079    0.746965  0.764005   \n",
       "robertuito mean        0.849242           0.722964    0.780701  0.801030   \n",
       "bert mean              0.968095           0.474335    0.636571  0.495758   \n",
       "roberta mean           0.966825           0.469692    0.632221  0.485789   \n",
       "bertweet mean          0.958810           0.495322    0.653031  0.546343   \n",
       "\n",
       "                      acc  \n",
       "beto mean        0.765437  \n",
       "robertuito mean  0.803187  \n",
       "bert mean        0.535433  \n",
       "roberta mean     0.527533  \n",
       "bertweet mean    0.571767  "
      ]
     },
     "execution_count": 2,
     "metadata": {},
     "output_type": "execute_result"
    }
   ],
   "source": [
    "import json\n",
    "import pandas as pd\n",
    "\n",
    "evaluations = {\n",
    "\n",
    "}\n",
    "\n",
    "for model_name, path in [\n",
    "    ('beto', '../../evaluations/hate_speech/task_a/beto.json'),\n",
    "    ('robertuito', '../../evaluations/hate_speech/task_a/robertuito.json'),\n",
    "    ('bert', '../../evaluations/hate_speech/task_a/bert.json'),\n",
    "    ('roberta', '../../evaluations/hate_speech/task_a/roberta.json'),\n",
    "    ('bertweet', '../../evaluations/hate_speech/task_a/bertweet.json'),\n",
    "    ]:\n",
    "    with open(path) as f:\n",
    "        evaluations[model_name] = json.load(f)\n",
    "\n",
    "\n",
    "for key, evals in evaluations.items():\n",
    "    print(f\"We have {len(evals['evaluations']['hate_speech'])} {key} evaluations\")\n",
    "\n",
    "\n",
    "\n",
    "dfs = []\n",
    "for model_name, model_results in evaluations.items():\n",
    "    model_evaluations = model_results[\"evaluations\"][\"hate_speech\"]\n",
    "    \n",
    "    if not model_evaluations:\n",
    "        continue\n",
    "    \n",
    "    df = pd.DataFrame(model_evaluations)\n",
    "\n",
    "    df.columns = [x.split(\"_\", 1)[1] if \"_\" in x else x for x in df.columns]\n",
    "    \n",
    "    mean_df = pd.DataFrame({\n",
    "        f\"{model_name} mean\": df.mean(), \n",
    "        f\"{model_name} std\": df.std()\n",
    "    })\n",
    "    dfs.append(mean_df)\n",
    "\n",
    "result_df = pd.concat(dfs, axis=1)\n",
    "index = [\n",
    "    \"hateful_recall\",\n",
    "    \"hateful_precision\",\n",
    "    \"hateful_f1\",\n",
    "    \"macro_f1\",\n",
    "    \"acc\",\n",
    "]\n",
    "\n",
    "columns = [\"beto mean\", \"robertuito mean\", \"bert mean\", \"roberta mean\", \"bertweet mean\"]\n",
    "result_df.loc[index, columns].T"
   ]
  },
  {
   "cell_type": "markdown",
   "metadata": {},
   "source": [
    "## English"
   ]
  },
  {
   "cell_type": "markdown",
   "metadata": {},
   "source": []
  }
 ],
 "metadata": {
  "interpreter": {
   "hash": "387abc9bc94d8eb1bd0148a5d4cb2bf99bc3b40fa501b808e2b508b4f65ed831"
  },
  "kernelspec": {
   "display_name": "Python 3.7.12 64-bit ('pysentimiento-bwlKzHxB-py3.7': poetry)",
   "name": "python3"
  },
  "language_info": {
   "codemirror_mode": {
    "name": "ipython",
    "version": 3
   },
   "file_extension": ".py",
   "mimetype": "text/x-python",
   "name": "python",
   "nbconvert_exporter": "python",
   "pygments_lexer": "ipython3",
   "version": "3.7.12"
  },
  "orig_nbformat": 4
 },
 "nbformat": 4,
 "nbformat_minor": 2
}
